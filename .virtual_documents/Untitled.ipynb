year=int(input('Enter your year'))


age=2024-year


sound=str(input('Are you sound?'))


if age>=18 and sound =='yes':
    print('you are eligible to vote')  
else:
    print('You are NOT eligible to vote')



