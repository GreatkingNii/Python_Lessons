{
 "cells": [
  {
   "cell_type": "code",
   "execution_count": 68,
   "id": "63f7a97b-6143-46de-bf87-17ccf7316f30",
   "metadata": {},
   "outputs": [
    {
     "name": "stdin",
     "output_type": "stream",
     "text": [
      "Enter your year 2020\n"
     ]
    }
   ],
   "source": [
    "year=int(input('Enter your year'))"
   ]
  },
  {
   "cell_type": "code",
   "execution_count": 69,
   "id": "4a34d729-2c3c-46df-9560-527adac8ce86",
   "metadata": {},
   "outputs": [],
   "source": [
    "age=2024-year"
   ]
  },
  {
   "cell_type": "code",
   "execution_count": 70,
   "id": "fdab3374-32bc-4776-8287-3195a5ae16d3",
   "metadata": {},
   "outputs": [
    {
     "name": "stdin",
     "output_type": "stream",
     "text": [
      "Are you sound? yes\n"
     ]
    }
   ],
   "source": [
    "sound=str(input('Are you sound?'))"
   ]
  },
  {
   "cell_type": "code",
   "execution_count": 71,
   "id": "f6995782-3c67-4787-acac-c2c91e701339",
   "metadata": {},
   "outputs": [
    {
     "name": "stdout",
     "output_type": "stream",
     "text": [
      "You are NOT eligible to vote\n"
     ]
    }
   ],
   "source": [
    "if age>=18 and sound =='yes':\n",
    "    print('you are eligible to vote')  \n",
    "else:\n",
    "    print('You are NOT eligible to vote')"
   ]
  },
  {
   "cell_type": "code",
   "execution_count": null,
   "id": "7c094d74-279b-47b1-b1bf-cdb88314a709",
   "metadata": {
    "editable": true,
    "slideshow": {
     "slide_type": ""
    },
    "tags": []
   },
   "outputs": [],
   "source": []
  },
  {
   "cell_type": "code",
   "execution_count": null,
   "id": "e4f5eb8c-30a1-4d6a-bf57-648a260730a0",
   "metadata": {},
   "outputs": [],
   "source": []
  }
 ],
 "metadata": {
  "kernelspec": {
   "display_name": "Python 3 (ipykernel)",
   "language": "python",
   "name": "python3"
  },
  "language_info": {
   "codemirror_mode": {
    "name": "ipython",
    "version": 3
   },
   "file_extension": ".py",
   "mimetype": "text/x-python",
   "name": "python",
   "nbconvert_exporter": "python",
   "pygments_lexer": "ipython3",
   "version": "3.12.4"
  }
 },
 "nbformat": 4,
 "nbformat_minor": 5
}
